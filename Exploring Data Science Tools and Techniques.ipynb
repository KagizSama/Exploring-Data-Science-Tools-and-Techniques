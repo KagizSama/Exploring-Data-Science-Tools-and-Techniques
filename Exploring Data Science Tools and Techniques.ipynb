{
  "metadata": {
    "kernelspec": {
      "name": "python",
      "display_name": "Python (Pyodide)",
      "language": "python"
    },
    "language_info": {
      "codemirror_mode": {
        "name": "python",
        "version": 3
      },
      "file_extension": ".py",
      "mimetype": "text/x-python",
      "name": "python",
      "nbconvert_exporter": "python",
      "pygments_lexer": "ipython3",
      "version": "3.8"
    }
  },
  "nbformat_minor": 5,
  "nbformat": 4,
  "cells": [
    {
      "id": "8d67e39b-1a2e-442e-a1f0-f6fb2fb980e1",
      "cell_type": "code",
      "source": "# Data Science Tools and Techniques",
      "metadata": {
        "trusted": true
      },
      "outputs": [],
      "execution_count": 1
    },
    {
      "id": "95d95bf0-3f89-46b3-8700-1563085ccfb5",
      "cell_type": "code",
      "source": "## Introduction\n#This notebook explores foundational elements of data science, including popular languages, libraries, and tools used in the field. It also includes practical examples of arithmetic operations and time conversions to demonstrate basic coding skills in a Jupyter notebook environment.",
      "metadata": {
        "trusted": true
      },
      "outputs": [],
      "execution_count": 8
    },
    {
      "id": "632ec06d-0d96-4272-8925-3f1d04e68875",
      "cell_type": "code",
      "source": "## Data Science Languages\n#Here are some of the most widely used programming languages in data science:\n#- Python\n#- R\n#- SQL\n#- Julia\n#- Scala",
      "metadata": {
        "trusted": true
      },
      "outputs": [],
      "execution_count": 9
    },
    {
      "id": "0018d232-aba2-444b-bb81-d20a7a65b857",
      "cell_type": "code",
      "source": "## Data Science Libraries\n#- Pandas (Python) - Data manipulation and analysis\n#- NumPy (Python) - Numerical computing\n#- Scikit-learn (Python) - Machine learning\n#- ggplot2 (R) - Data visualization\n#- TensorFlow (Python) - Deep learning",
      "metadata": {
        "trusted": true
      },
      "outputs": [],
      "execution_count": 10
    },
    {
      "id": "194af1ce-e559-4d03-8b52-57f23d885dee",
      "cell_type": "code",
      "source": "## Data Science Tools\n#| Tool             | Purpose                     |\n#|------------------|-----------------------------|\n#| Jupyter Notebook | Interactive coding          |\n#| RStudio          | R programming environment   |\n#| Apache Spark     | Big data processing         |\n#| Tableau          | Data visualization          |\n#| Watson Studio    | Integrated data science platform |",
      "metadata": {
        "trusted": true
      },
      "outputs": [],
      "execution_count": 11
    },
    {
      "id": "ba981ec6-8b70-44d3-af1a-ff78385fb624",
      "cell_type": "code",
      "source": "## Arithmetic Expression Examples\n#In the following sections, we will demonstrate basic arithmetic operations such as multiplication and addition using code cells.",
      "metadata": {
        "trusted": true
      },
      "outputs": [],
      "execution_count": 12
    },
    {
      "id": "34c9cc55-881e-4c82-8259-e94c74c5ae2e",
      "cell_type": "code",
      "source": "# Multiply and add numbers\na = 5\nb = 3\nresult = (a * b) + 2\nprint(f\"Result of ({a} * {b}) + 2 = {result}\")",
      "metadata": {
        "trusted": true
      },
      "outputs": [
        {
          "name": "stdout",
          "output_type": "stream",
          "text": "Result of (5 * 3) + 2 = 17\n"
        }
      ],
      "execution_count": 7
    },
    {
      "id": "fac745a7-f4f6-4427-9e52-562142a8d818",
      "cell_type": "code",
      "source": "# Convert minutes to hours\nminutes = 120\nhours = minutes / 60\nprint(f\"{minutes} minutes is equal to {hours} hours\")",
      "metadata": {
        "trusted": true
      },
      "outputs": [
        {
          "name": "stdout",
          "output_type": "stream",
          "text": "120 minutes is equal to 2.0 hours\n"
        }
      ],
      "execution_count": 13
    },
    {
      "id": "df399258-189c-4c8a-8b11-7b386afd3469",
      "cell_type": "code",
      "source": "## Objectives\n#The objectives of this notebook are:\n#- To demonstrate proficiency in creating Markdown cells in Jupyter Notebook\n#- To list key data science languages, libraries, and tools\n#- To perform basic arithmetic operations and conversions using Python code\n#- To share the notebook publicly via GitHub",
      "metadata": {
        "trusted": true
      },
      "outputs": [],
      "execution_count": 14
    },
    {
      "id": "28ccaa3f-7e1b-4372-a7a9-23623b5b342e",
      "cell_type": "code",
      "source": "## Author\n#This notebook was created by [Nguyễn Trung Tuyến].",
      "metadata": {
        "trusted": true
      },
      "outputs": [],
      "execution_count": null
    }
  ]
}